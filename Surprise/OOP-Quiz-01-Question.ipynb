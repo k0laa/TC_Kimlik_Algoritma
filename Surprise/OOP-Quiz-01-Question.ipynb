{
  "nbformat": 4,
  "nbformat_minor": 0,
  "metadata": {
    "colab": {
      "provenance": []
    },
    "kernelspec": {
      "name": "python3",
      "display_name": "Python 3"
    },
    "language_info": {
      "name": "python"
    }
  },
  "cells": [
    {
      "cell_type": "markdown",
      "source": [
        "**1. Sınıf Tanımlama ve Özellikler:**\n",
        "\n",
        "Soru 1: Aşağıdaki Python kodunda eksik olan kısımları doldurunuz. Bu kod, bir Ogrenci sınıfı oluşturarak her öğrencinin adını ve yaşını saklamalıdır."
      ],
      "metadata": {
        "id": "owCd-npLIjlq"
      }
    },
    {
      "cell_type": "code",
      "source": [
        "class Ogrenci:\n",
        "    def __init__(self, ad, yas):\n",
        "        self.ad = ad\n",
        "        self.yas = yas\n",
        "\n",
        "# Bir Ogrenci nesnesi oluşturun ve adını \"Ali\", yaşını \"20\" yapın.\n",
        "ogrenci1 = Ogrenci(\"Ali\", 20)"
      ],
      "metadata": {
        "id": "rXjACaa7Leiy"
      },
      "execution_count": 2,
      "outputs": []
    },
    {
      "cell_type": "markdown",
      "source": [
        "**2. Metod Tanımlama:**\n",
        "\n",
        "Soru 2: Aşağıdaki sınıfın bilgi_ver adında bir fonksiyonunu yazınız. Bu fonksiyon, öğrencinin adı ve yaşını ekrana bastırmalıdır."
      ],
      "metadata": {
        "id": "mwU0aDCgIlEr"
      }
    },
    {
      "cell_type": "code",
      "source": [
        "class Ogrenci:\n",
        "    def __init__(self, ad, yas):\n",
        "        self.ad = ad\n",
        "        self.yas = yas\n",
        "\n",
        "\n",
        "    # burada bir fonksiyon ekleyin\n",
        "\n",
        "    def bilgi_ver(self):\n",
        "        print(f\"Öğrencinin; ismi : {self.ad}, yaşı : {self.yas} \")\n"
      ],
      "metadata": {
        "id": "nfi5Pex5IlWH"
      },
      "execution_count": null,
      "outputs": []
    },
    {
      "cell_type": "markdown",
      "source": [
        "**3. Nesne Oluşturma:**\n",
        "\n",
        "Soru 3: Kitap adında bir sınıf oluşturunuz. Bu sınıfın her bir kitabın adı ve yazarını içermesi gerekmektedir. Ayrıca, kitap bilgilerini ekrana yazdıran bir metod tanımlayın. Ardından, en az iki kitap nesnesi oluşturun."
      ],
      "metadata": {
        "id": "5X8ID0P5IldP"
      }
    },
    {
      "cell_type": "code",
      "source": [
        "class Kitap:\n",
        "    def __init__(self, ad, yazar):\n",
        "        self.ad = ad\n",
        "        self.yazar = yazar\n",
        "\n",
        "\n",
        "    # burada bir fonksiyon ekleyin\n",
        "\n",
        "    def bilgi_ver(self):\n",
        "        print(f\"Kitap Adı : {self.ad}, Yazar : {self.yazar} \")\n",
        "\n",
        "Kitap1 = Kitap(\"1984\",\"George Orwell\")\n",
        "Kitap2 = Kitap(\"Küçük Prens\",\"Antoine de Saint-Exupéry\")\n",
        "\n",
        "Kitap1.bilgi_ver()\n",
        "Kitap2.bilgi_ver()\n",
        "\n"
      ],
      "metadata": {
        "colab": {
          "base_uri": "https://localhost:8080/"
        },
        "id": "tu6fen3gIljN",
        "outputId": "2222cfa9-15b2-4754-9b7f-c16e582334f3"
      },
      "execution_count": 4,
      "outputs": [
        {
          "output_type": "stream",
          "name": "stdout",
          "text": [
            "Kitap Adı : 1984, Yazar : George Orwell \n",
            "Kitap Adı : Küçük, Yazar : Antoine de Saint-Exupéry \n"
          ]
        }
      ]
    },
    {
      "cell_type": "markdown",
      "source": [
        "**4. Deyim ve Öznitelikler:**\n",
        "\n",
        "Soru 4: Bir sınıfın özniteliklerine erişmek ve değiştirmek için bir metod yazınız. Araba adında bir sınıf tanımlayın, bu sınıf her bir arabanın markasını ve hızını saklasın. Araba hızını artırmak için bir metod oluşturun."
      ],
      "metadata": {
        "id": "7NU0HudxIlo3"
      }
    },
    {
      "cell_type": "code",
      "source": [
        "class Araba:\n",
        "    def __init__(self, marka, hiz):\n",
        "        self.marka = marka\n",
        "        self.hiz = hiz\n",
        "\n",
        "\n",
        "    # burada bir fonksiyon ekleyin\n",
        "\n",
        "    def Hiz_Degistir(self, yeni_hiz):\n",
        "      self.hiz = yeni_hiz\n",
        "      print(f\"Arabanın yeni hızı : {self.hiz}\")\n",
        "\n",
        "    def bilgi_ver(self):\n",
        "        print(f\"Araba markası : {self.marka}, Hızı : {self.hiz} \")\n",
        "\n",
        "\n",
        "araba1 = Araba(\"opel\", 120)\n",
        "\n",
        "araba1.bilgi_ver()\n",
        "araba1.Hiz_Degistir(500)"
      ],
      "metadata": {
        "colab": {
          "base_uri": "https://localhost:8080/"
        },
        "id": "auMNvw-tIluO",
        "outputId": "1dd93172-3185-4206-eb37-ba733f29c89b"
      },
      "execution_count": 7,
      "outputs": [
        {
          "output_type": "stream",
          "name": "stdout",
          "text": [
            "Araba markası : opel, Hızı : 120 \n",
            "Arabanın yeni hızı : 500\n",
            "Araba markası : opel, Hızı : 500 \n"
          ]
        }
      ]
    },
    {
      "cell_type": "markdown",
      "source": [
        "**1. Senaryo: Kütüphane Yönetim Sistemi**\n",
        "\n",
        "\n",
        "Bir kütüphane yönetim sistemi geliştirmek istiyorsunuz. Her kitabın adı, yazarı ve mevcut adet sayısı tutulmalı. Kullanıcılar kitap ödünç alabilecek ve kitap iade edebilecekler. Her işlem sonucunda kitap adedi güncellenmeli. Eğer ödünç alınmak istenen kitap yoksa kullanıcıya bunun mümkün olmadığı söylenmeli."
      ],
      "metadata": {
        "id": "jCYpTYLUIlzx"
      }
    },
    {
      "cell_type": "code",
      "source": [
        "class Kitap:\n",
        "    def __init__(self, ad, yazar):\n",
        "        self.ad = ad\n",
        "        self.yazar = yazar\n",
        "\n",
        "\n",
        "    # burada bir fonksiyon ekleyin\n",
        "\n",
        "    def bilgi_ver(self):\n",
        "        print(f\"Kitap Adı : {self.ad}, Yazar : {self.yazar} \")\n",
        "\n",
        "Kitap1 = Kitap(\"1984\",\"George Orwell\")\n",
        "Kitap2 = Kitap(\"Küçük Prens\",\"Antoine de Saint-Exupéry\")\n",
        "\n",
        "class Kütüphane:\n",
        "    kitaplar = {Kitap1.ad : 25, Kitap2.ad: 1}\n",
        "\n",
        "    # burada bir fonksiyon ekleyin\n",
        "\n",
        "    def odunc_al(self, kitap_ismi:String):\n",
        "      if kitaplar[kitap_ismi] > 0:\n",
        "         kitaplar[kitap_ismi] = kitaplar[kitap_ismi] -1\n",
        "         print(\"iyi günlerde kullanın. 1 hafta süreniz var.\")\n",
        "      else:\n",
        "        print(\"kitap mevcut değil.\")\n",
        "\n",
        "    def iade_et(self,kitap_ismi):\n",
        "       kitaplar[kitap_ismi] > 0:\n",
        "       kitaplar[kitap_ismi] = kitaplar[kitap_ismi] + 1\n",
        "      print(\"iadeniz için teşekkür ederiz.\")\n",
        "\n"
      ],
      "metadata": {
        "id": "lZPvlrYjIl4v"
      },
      "execution_count": null,
      "outputs": []
    },
    {
      "cell_type": "code",
      "source": [
        "Kütüphane1 = Kütüphane();\n",
        "\n",
        "Kütüphane1.odunc_al(Kitap2.ad) #kitap al\n",
        "Kütüphane1.odunc_al(Kitap2.ad) #kitap al hata vermeli\n",
        "\n",
        "Kütüphane1.iade_et(Kitap2.ad) #kitap ver\n",
        "Kütüphane1.odunc_al(Kitap2.ad) #kitap al\n",
        "Kütüphane1.odunc_al(Kitap2.ad) #kitap al hata vermeli"
      ],
      "metadata": {
        "colab": {
          "base_uri": "https://localhost:8080/"
        },
        "id": "jcNjCUMVJ56V",
        "outputId": "10b2e083-17c0-4405-eab4-c90f1c1d2153"
      },
      "execution_count": null,
      "outputs": [
        {
          "output_type": "stream",
          "name": "stdout",
          "text": [
            "1984 kitabını ödünç aldınız. Kalan adet: 2\n",
            "Üzgünüz, Hayvan Çiftliği kitabı şu anda mevcut değil.\n",
            "1984 kitabını iade ettiniz. Güncel adet: 3\n"
          ]
        }
      ]
    },
    {
      "cell_type": "markdown",
      "source": [
        "**2. Senaryo: Otomobil Servis Sistemi**\n",
        "\n",
        "\n",
        "Bir otomobil servis sistemi tasarlıyorsunuz. Her arabanın markası, modeli ve kilometresi olmalı. Kullanıcı arabasını servise getirdiğinde kilometresi güncellenmeli ve bu bilgiyi takip edebilmelisiniz. Ayrıca, servise giren arabaların kaydını tutmalı ve bu kayıtları listeleyebilmelisiniz. (2 sınıf oluşturunuz)"
      ],
      "metadata": {
        "id": "ChvS2HrFImA7"
      }
    },
    {
      "cell_type": "code",
      "source": [
        "class Araba:\n",
        "    def __init__(self, marka, model, km):\n",
        "        self.marka = marka\n",
        "        self.model = model\n",
        "        self.km = km\n"
      ],
      "metadata": {
        "id": "Jw9YYK2jImGp"
      },
      "execution_count": 27,
      "outputs": []
    },
    {
      "cell_type": "code",
      "source": [
        "class Servis:\n",
        "    arabalar = {}\n",
        "\n",
        "    def araba_geldi(self, araba):\n",
        "      print(f\"{araba.marka} {araba.model} servise getirildi. Güncel kilometre = {araba.km} km\")\n",
        "      self.araba_kaydet(araba)\n",
        "\n",
        "    def araba_kaydet(self, araba):\n",
        "       self.arabalar[araba] = araba.km\n",
        "       print(f\"{araba.marka} {araba.model} servise kaydedildi.\")\n",
        "\n",
        "    def arabalari_yazdir(self):\n",
        "      print(\"Servise gelen arabalar : \")\n",
        "      for a,b in self.arabalar.items():\n",
        "        print(a.marka,b)\n"
      ],
      "metadata": {
        "id": "Au1Hf6abKAAP"
      },
      "execution_count": 33,
      "outputs": []
    },
    {
      "cell_type": "code",
      "source": [
        "araba1 = Araba(\"Toyota\", \"Corolla\", 234000)\n",
        "araba2 = Araba(\"Ford\", \"Focus\", 7550)\n",
        "\n",
        "servis = Servis()\n",
        "\n",
        "servis.araba_geldi(araba1)\n",
        "servis.araba_geldi(araba2)\n",
        "servis.arabalari_yazdir()\n",
        "\n",
        "araba1.km = 350000\n",
        "servis.araba_geldi(araba1)\n",
        "servis.arabalari_yazdir()\n",
        "\n"
      ],
      "metadata": {
        "colab": {
          "base_uri": "https://localhost:8080/"
        },
        "id": "9PFHiSyVKWEI",
        "outputId": "82191a06-9a16-40be-b156-ed1df6f9d38b"
      },
      "execution_count": 34,
      "outputs": [
        {
          "output_type": "stream",
          "name": "stdout",
          "text": [
            "Toyota Corolla servise getirildi. Güncel kilometre = 234000 km\n",
            "Toyota Corolla servise kaydedildi.\n",
            "Ford Focus servise getirildi. Güncel kilometre = 7550 km\n",
            "Ford Focus servise kaydedildi.\n",
            "Servise gelen arabalar : \n",
            "Toyota 234000\n",
            "Ford 7550\n",
            "Toyota Corolla servise getirildi. Güncel kilometre = 350000 km\n",
            "Toyota Corolla servise kaydedildi.\n",
            "Servise gelen arabalar : \n",
            "Toyota 350000\n",
            "Ford 7550\n"
          ]
        }
      ]
    },
    {
      "cell_type": "markdown",
      "source": [
        "**3. Senaryo: Banka Hesap Yönetimi**\n",
        "\n",
        "Bir bankada hesap yönetim sistemi oluşturuyorsunuz. Her kullanıcının bir hesabı olacak ve hesap bakiyesi tutulacak. Kullanıcı para yatırabilecek ve para çekebilecek. Eğer kullanıcı bakiyesinden fazla para çekmeye çalışırsa, sistem buna izin vermemeli ve kullanıcıyı uyarmalı."
      ],
      "metadata": {
        "id": "ipL0GXlAImMg"
      }
    },
    {
      "cell_type": "code",
      "source": [
        "class Hesap:\n",
        "    def __init__(self, isim, para):\n",
        "        self.isim = isim\n",
        "        self.para = para\n"
      ],
      "metadata": {
        "id": "F1WR-JLeImR7"
      },
      "execution_count": 35,
      "outputs": []
    },
    {
      "cell_type": "code",
      "source": [
        "class Banka:\n",
        "    Hesaplar = {}\n",
        "\n",
        "    def para_yatir(self, hesap, para):\n",
        "      hesap.para = hesap.para + para\n",
        "      self.Hesaplar[hesap] = hesap.para\n",
        "      print(f\"para yatırıldı. yatırılan tutar : {para}, güncel bakiye : {hesap.para}\")\n",
        "\n",
        "\n",
        "    def para_cek(self, hesap, para):\n",
        "      hesap.para = hesap.para - para\n",
        "      if(hesap.para > 0):\n",
        "        self.Hesaplar[hesap] = hesap.para\n",
        "        print(f\"para çekildi. çekilen tutar : {para}, güncel bakiye : {hesap.para}\")\n",
        "      else:\n",
        "        hesap.para = hesap.para + para\n",
        "        print(\"para çekilemedi. Yetersiz bakiye.\")\n",
        "\n"
      ],
      "metadata": {
        "id": "MNaym-AJKhgE"
      },
      "execution_count": 37,
      "outputs": []
    },
    {
      "cell_type": "code",
      "source": [
        "hesap1 = Hesap(\"enes\",50)\n",
        "hesap2 = Hesap(\"buğra\",100956165415315641531564153135413541534534343543515313545135135513541535313500)\n",
        "\n",
        "banka = Banka()\n",
        "\n",
        "banka.para_cek(hesap1,100) # hata vermeli\n",
        "banka.para_yatir(hesap1,100) # yatır\n",
        "banka.para_cek(hesap1,100) # çek"
      ],
      "metadata": {
        "colab": {
          "base_uri": "https://localhost:8080/"
        },
        "id": "4LRjE4oLSAim",
        "outputId": "4eae6728-542d-4be7-83d4-4f527967f252"
      },
      "execution_count": 39,
      "outputs": [
        {
          "output_type": "stream",
          "name": "stdout",
          "text": [
            "para çekilemedi. Yetersiz bakiye.\n",
            "para yatırıldı. yatırılan tutar : 100, güncel bakiye : 150\n",
            "para çekildi. çekilen tutar : 100, güncel bakiye : 50\n"
          ]
        }
      ]
    },
    {
      "cell_type": "markdown",
      "source": [
        "**4. Senaryo: Online Alışveriş Sepeti**\n",
        "\n",
        "Bir online alışveriş sistemi için bir sepet yönetim sistemi tasarlıyorsunuz. Kullanıcı, sepete ürün ekleyebilecek ve sepetindeki ürünleri listeleyebilecek. Her ürünün adı, fiyatı ve adedi tutulacak. Kullanıcı toplam tutarı görebilmeli. (2 sınıf oluşturunuz)"
      ],
      "metadata": {
        "id": "kDbBZjZ3ImWx"
      }
    },
    {
      "cell_type": "code",
      "source": [],
      "metadata": {
        "id": "wnJig9JwKm6U"
      },
      "execution_count": null,
      "outputs": []
    },
    {
      "cell_type": "code",
      "source": [],
      "metadata": {
        "id": "Yt3q3FcmKnMX"
      },
      "execution_count": null,
      "outputs": []
    },
    {
      "cell_type": "code",
      "source": [],
      "metadata": {
        "colab": {
          "base_uri": "https://localhost:8080/"
        },
        "id": "PPh8hl_DLICq",
        "outputId": "4a745623-b771-4edc-dd16-cd3963cd9e8f"
      },
      "execution_count": null,
      "outputs": [
        {
          "output_type": "stream",
          "name": "stdout",
          "text": [
            "Telefon sepete eklendi.\n",
            "Kulaklık sepete eklendi.\n",
            "Sepetinizdeki ürünler:\n",
            "- Telefon, Adet: 1, Fiyat: 5000 TL\n",
            "- Kulaklık, Adet: 2, Fiyat: 300 TL\n",
            "Toplam tutar: 5600 TL\n"
          ]
        }
      ]
    }
  ]
}